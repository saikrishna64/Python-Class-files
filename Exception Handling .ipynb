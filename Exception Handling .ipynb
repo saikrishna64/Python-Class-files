{
 "cells": [
  {
   "cell_type": "code",
   "execution_count": null,
   "id": "a395f2f4",
   "metadata": {},
   "outputs": [],
   "source": [
    "# exception handling is the technique where we can handle the erros using Try and except blocks "
   ]
  },
  {
   "cell_type": "raw",
   "id": "eb977ab5",
   "metadata": {},
   "source": [
    "1 . Zero division error : occurs when number divisible by zero \n",
    "2 . NameError : It occurs when a name variable is not found \n",
    "3 . IOE : it occues when a file not found \n",
    "4 . ValueError: It occurs when we are changing the rule \n",
    "5 . Indentation error : when we are not following the syntax "
   ]
  },
  {
   "cell_type": "markdown",
   "id": "ba83d5c5",
   "metadata": {},
   "source": [
    "### Zero division error "
   ]
  },
  {
   "cell_type": "code",
   "execution_count": 1,
   "id": "eec7908a",
   "metadata": {},
   "outputs": [
    {
     "ename": "ZeroDivisionError",
     "evalue": "division by zero",
     "output_type": "error",
     "traceback": [
      "\u001b[1;31m---------------------------------------------------------------------------\u001b[0m",
      "\u001b[1;31mZeroDivisionError\u001b[0m                         Traceback (most recent call last)",
      "\u001b[1;32m~\\AppData\\Local\\Temp/ipykernel_17724/767968158.py\u001b[0m in \u001b[0;36m<module>\u001b[1;34m\u001b[0m\n\u001b[0;32m      1\u001b[0m \u001b[0ma\u001b[0m \u001b[1;33m=\u001b[0m \u001b[1;36m12\u001b[0m\u001b[1;33m\u001b[0m\u001b[1;33m\u001b[0m\u001b[0m\n\u001b[1;32m----> 2\u001b[1;33m \u001b[0mb\u001b[0m \u001b[1;33m=\u001b[0m \u001b[0ma\u001b[0m \u001b[1;33m/\u001b[0m \u001b[1;36m0\u001b[0m\u001b[1;33m\u001b[0m\u001b[1;33m\u001b[0m\u001b[0m\n\u001b[0m\u001b[0;32m      3\u001b[0m \u001b[1;33m\u001b[0m\u001b[0m\n\u001b[0;32m      4\u001b[0m \u001b[0mprint\u001b[0m\u001b[1;33m(\u001b[0m\u001b[0mb\u001b[0m\u001b[1;33m)\u001b[0m\u001b[1;33m\u001b[0m\u001b[1;33m\u001b[0m\u001b[0m\n",
      "\u001b[1;31mZeroDivisionError\u001b[0m: division by zero"
     ]
    }
   ],
   "source": [
    "a = 12\n",
    "b = a / 0\n",
    "\n",
    "print(b)"
   ]
  },
  {
   "cell_type": "markdown",
   "id": "9b2355e6",
   "metadata": {},
   "source": [
    "## Name Error "
   ]
  },
  {
   "cell_type": "code",
   "execution_count": 4,
   "id": "7955c0fd",
   "metadata": {},
   "outputs": [
    {
     "ename": "NameError",
     "evalue": "name 'SOL' is not defined",
     "output_type": "error",
     "traceback": [
      "\u001b[1;31m---------------------------------------------------------------------------\u001b[0m",
      "\u001b[1;31mNameError\u001b[0m                                 Traceback (most recent call last)",
      "\u001b[1;32m~\\AppData\\Local\\Temp/ipykernel_17724/1898302616.py\u001b[0m in \u001b[0;36m<module>\u001b[1;34m\u001b[0m\n\u001b[0;32m      1\u001b[0m \u001b[0msol\u001b[0m \u001b[1;33m=\u001b[0m \u001b[1;34m'kamal'\u001b[0m\u001b[1;33m\u001b[0m\u001b[1;33m\u001b[0m\u001b[0m\n\u001b[1;32m----> 2\u001b[1;33m \u001b[0mprint\u001b[0m\u001b[1;33m(\u001b[0m\u001b[0mSOL\u001b[0m\u001b[1;33m)\u001b[0m\u001b[1;33m\u001b[0m\u001b[1;33m\u001b[0m\u001b[0m\n\u001b[0m",
      "\u001b[1;31mNameError\u001b[0m: name 'SOL' is not defined"
     ]
    }
   ],
   "source": [
    "sol = 'kamal'\n",
    "print(SOL)  # python is a case sensitive language"
   ]
  },
  {
   "cell_type": "markdown",
   "id": "330c7953",
   "metadata": {},
   "source": [
    "### IOE (Input output ERROR)"
   ]
  },
  {
   "cell_type": "code",
   "execution_count": 5,
   "id": "e436b495",
   "metadata": {},
   "outputs": [],
   "source": [
    "## IOE completely belongs to file handling concept \n",
    "\n",
    "\n",
    "with open('C:\\\\Users\\\\korla\\\\OneDrive\\\\Desktop\\\\kamal.txt' , 'w') as f:\n",
    "    f.write(\"I am an cv scientist\")\n",
    "    f.close()\n"
   ]
  },
  {
   "cell_type": "code",
   "execution_count": 8,
   "id": "53c30992",
   "metadata": {},
   "outputs": [
    {
     "name": "stdout",
     "output_type": "stream",
     "text": [
      "I am an cv scientist\n"
     ]
    }
   ],
   "source": [
    "with open('C:\\\\Users\\\\korla\\\\OneDrive\\\\Desktop\\\\kamal.txt' , 'r') as f:\n",
    "    print(f.read())\n",
    "    f.close()\n",
    "    "
   ]
  },
  {
   "cell_type": "code",
   "execution_count": 9,
   "id": "7844cb0f",
   "metadata": {},
   "outputs": [
    {
     "ename": "FileNotFoundError",
     "evalue": "[Errno 2] No such file or directory: 'C:\\\\Users\\\\korla\\\\OneDrive\\\\Desktop\\\\data.txt'",
     "output_type": "error",
     "traceback": [
      "\u001b[1;31m---------------------------------------------------------------------------\u001b[0m",
      "\u001b[1;31mFileNotFoundError\u001b[0m                         Traceback (most recent call last)",
      "\u001b[1;32m~\\AppData\\Local\\Temp/ipykernel_17724/2272409348.py\u001b[0m in \u001b[0;36m<module>\u001b[1;34m\u001b[0m\n\u001b[1;32m----> 1\u001b[1;33m \u001b[1;32mwith\u001b[0m \u001b[0mopen\u001b[0m\u001b[1;33m(\u001b[0m\u001b[1;34m'C:\\\\Users\\\\korla\\\\OneDrive\\\\Desktop\\\\data.txt'\u001b[0m \u001b[1;33m,\u001b[0m \u001b[1;34m'r'\u001b[0m\u001b[1;33m)\u001b[0m \u001b[1;32mas\u001b[0m \u001b[0mf\u001b[0m\u001b[1;33m:\u001b[0m\u001b[1;33m\u001b[0m\u001b[1;33m\u001b[0m\u001b[0m\n\u001b[0m\u001b[0;32m      2\u001b[0m     \u001b[0mprint\u001b[0m\u001b[1;33m(\u001b[0m\u001b[0mf\u001b[0m\u001b[1;33m.\u001b[0m\u001b[0mread\u001b[0m\u001b[1;33m(\u001b[0m\u001b[1;33m)\u001b[0m\u001b[1;33m)\u001b[0m\u001b[1;33m\u001b[0m\u001b[1;33m\u001b[0m\u001b[0m\n\u001b[0;32m      3\u001b[0m     \u001b[0mf\u001b[0m\u001b[1;33m.\u001b[0m\u001b[0mclose\u001b[0m\u001b[1;33m(\u001b[0m\u001b[1;33m)\u001b[0m\u001b[1;33m\u001b[0m\u001b[1;33m\u001b[0m\u001b[0m\n",
      "\u001b[1;31mFileNotFoundError\u001b[0m: [Errno 2] No such file or directory: 'C:\\\\Users\\\\korla\\\\OneDrive\\\\Desktop\\\\data.txt'"
     ]
    }
   ],
   "source": [
    "with open('C:\\\\Users\\\\korla\\\\OneDrive\\\\Desktop\\\\data.txt' , 'r') as f:\n",
    "    print(f.read())\n",
    "    f.close()"
   ]
  },
  {
   "cell_type": "markdown",
   "id": "590770cd",
   "metadata": {},
   "source": [
    "### Value Error "
   ]
  },
  {
   "cell_type": "code",
   "execution_count": 11,
   "id": "e3a26619",
   "metadata": {},
   "outputs": [
    {
     "data": {
      "text/plain": [
       "12.0"
      ]
     },
     "execution_count": 11,
     "metadata": {},
     "output_type": "execute_result"
    }
   ],
   "source": [
    "a = 12\n",
    "b = float(a)\n",
    "b"
   ]
  },
  {
   "cell_type": "code",
   "execution_count": 17,
   "id": "6d9893cd",
   "metadata": {},
   "outputs": [
    {
     "name": "stdout",
     "output_type": "stream",
     "text": [
      "<class 'str'>\n",
      "\n"
     ]
    },
    {
     "data": {
      "text/plain": [
       "12"
      ]
     },
     "execution_count": 17,
     "metadata": {},
     "output_type": "execute_result"
    }
   ],
   "source": [
    "a = '12'\n",
    "print(type(a))\n",
    "print()\n",
    "b = int(a)\n",
    "b"
   ]
  },
  {
   "cell_type": "code",
   "execution_count": 15,
   "id": "2c188dfe",
   "metadata": {},
   "outputs": [
    {
     "ename": "ValueError",
     "evalue": "invalid literal for int() with base 10: 'df'",
     "output_type": "error",
     "traceback": [
      "\u001b[1;31m---------------------------------------------------------------------------\u001b[0m",
      "\u001b[1;31mValueError\u001b[0m                                Traceback (most recent call last)",
      "\u001b[1;32m~\\AppData\\Local\\Temp/ipykernel_17724/2634615310.py\u001b[0m in \u001b[0;36m<module>\u001b[1;34m\u001b[0m\n\u001b[0;32m      1\u001b[0m \u001b[0ma\u001b[0m \u001b[1;33m=\u001b[0m \u001b[1;34m'df'\u001b[0m\u001b[1;33m\u001b[0m\u001b[1;33m\u001b[0m\u001b[0m\n\u001b[1;32m----> 2\u001b[1;33m \u001b[0mb\u001b[0m \u001b[1;33m=\u001b[0m \u001b[0mint\u001b[0m\u001b[1;33m(\u001b[0m\u001b[0ma\u001b[0m\u001b[1;33m)\u001b[0m\u001b[1;33m\u001b[0m\u001b[1;33m\u001b[0m\u001b[0m\n\u001b[0m\u001b[0;32m      3\u001b[0m \u001b[0mb\u001b[0m\u001b[1;33m\u001b[0m\u001b[1;33m\u001b[0m\u001b[0m\n",
      "\u001b[1;31mValueError\u001b[0m: invalid literal for int() with base 10: 'df'"
     ]
    }
   ],
   "source": [
    "a = 'df'\n",
    "b = int(a)\n",
    "b"
   ]
  },
  {
   "cell_type": "markdown",
   "id": "73347763",
   "metadata": {},
   "source": [
    "### Indentation Error "
   ]
  },
  {
   "cell_type": "code",
   "execution_count": 18,
   "id": "94b2cbfe",
   "metadata": {},
   "outputs": [],
   "source": [
    "##  when we are not following the syntax "
   ]
  },
  {
   "cell_type": "code",
   "execution_count": 19,
   "id": "a8218dfb",
   "metadata": {},
   "outputs": [
    {
     "name": "stdout",
     "output_type": "stream",
     "text": [
      "1 2 3 4 5 6 7 8 9 10 "
     ]
    }
   ],
   "source": [
    "for i in range(1,11):\n",
    "    print(i, end=' ')"
   ]
  },
  {
   "cell_type": "code",
   "execution_count": 20,
   "id": "887f3875",
   "metadata": {},
   "outputs": [
    {
     "ename": "IndentationError",
     "evalue": "expected an indented block (Temp/ipykernel_17724/1056671125.py, line 2)",
     "output_type": "error",
     "traceback": [
      "\u001b[1;36m  File \u001b[1;32m\"C:\\Users\\korla\\AppData\\Local\\Temp/ipykernel_17724/1056671125.py\"\u001b[1;36m, line \u001b[1;32m2\u001b[0m\n\u001b[1;33m    print(i,end=' ')\u001b[0m\n\u001b[1;37m    ^\u001b[0m\n\u001b[1;31mIndentationError\u001b[0m\u001b[1;31m:\u001b[0m expected an indented block\n"
     ]
    }
   ],
   "source": [
    "for i in range(1,11):\n",
    "print(i,end=' ')"
   ]
  },
  {
   "cell_type": "markdown",
   "id": "6a2021f6",
   "metadata": {},
   "source": [
    "## syntax of exception handling "
   ]
  },
  {
   "cell_type": "raw",
   "id": "7f610c75",
   "metadata": {},
   "source": [
    "try:\n",
    "\n",
    "    code area \n",
    "\n",
    "\n",
    "except: error type "
   ]
  },
  {
   "cell_type": "code",
   "execution_count": 21,
   "id": "fc23f01b",
   "metadata": {},
   "outputs": [
    {
     "ename": "ZeroDivisionError",
     "evalue": "division by zero",
     "output_type": "error",
     "traceback": [
      "\u001b[1;31m---------------------------------------------------------------------------\u001b[0m",
      "\u001b[1;31mZeroDivisionError\u001b[0m                         Traceback (most recent call last)",
      "\u001b[1;32m~\\AppData\\Local\\Temp/ipykernel_17724/767968158.py\u001b[0m in \u001b[0;36m<module>\u001b[1;34m\u001b[0m\n\u001b[0;32m      1\u001b[0m \u001b[0ma\u001b[0m \u001b[1;33m=\u001b[0m \u001b[1;36m12\u001b[0m\u001b[1;33m\u001b[0m\u001b[1;33m\u001b[0m\u001b[0m\n\u001b[1;32m----> 2\u001b[1;33m \u001b[0mb\u001b[0m \u001b[1;33m=\u001b[0m \u001b[0ma\u001b[0m \u001b[1;33m/\u001b[0m \u001b[1;36m0\u001b[0m\u001b[1;33m\u001b[0m\u001b[1;33m\u001b[0m\u001b[0m\n\u001b[0m\u001b[0;32m      3\u001b[0m \u001b[1;33m\u001b[0m\u001b[0m\n\u001b[0;32m      4\u001b[0m \u001b[0mprint\u001b[0m\u001b[1;33m(\u001b[0m\u001b[0mb\u001b[0m\u001b[1;33m)\u001b[0m\u001b[1;33m\u001b[0m\u001b[1;33m\u001b[0m\u001b[0m\n",
      "\u001b[1;31mZeroDivisionError\u001b[0m: division by zero"
     ]
    }
   ],
   "source": [
    "a = 12\n",
    "b = a / 0\n",
    "\n",
    "print(b)"
   ]
  },
  {
   "cell_type": "code",
   "execution_count": 22,
   "id": "99486a6b",
   "metadata": {},
   "outputs": [
    {
     "name": "stdout",
     "output_type": "stream",
     "text": [
      "Number should not divisible with zero\n"
     ]
    }
   ],
   "source": [
    "try:\n",
    "    a = 12\n",
    "    b = 1 / 0\n",
    "    print(a)\n",
    "except:\n",
    "    print(\"Number should not divisible with zero\")"
   ]
  },
  {
   "cell_type": "code",
   "execution_count": 23,
   "id": "2bf6e7c2",
   "metadata": {},
   "outputs": [
    {
     "name": "stdout",
     "output_type": "stream",
     "text": [
      "division by zero\n"
     ]
    }
   ],
   "source": [
    "try:\n",
    "    a = 12\n",
    "    b = a / 0\n",
    "    print(a)\n",
    "except Exception as f:\n",
    "    print(f)\n",
    "    "
   ]
  },
  {
   "cell_type": "code",
   "execution_count": 24,
   "id": "0ce3636b",
   "metadata": {},
   "outputs": [
    {
     "name": "stdout",
     "output_type": "stream",
     "text": [
      "6.0\n"
     ]
    }
   ],
   "source": [
    "try:\n",
    "    a = 12\n",
    "    b = a / 2\n",
    "    print(b)\n",
    "except:\n",
    "    print(\"Number should not divisible with zero\")"
   ]
  },
  {
   "cell_type": "code",
   "execution_count": 25,
   "id": "9aef89d2",
   "metadata": {},
   "outputs": [
    {
     "name": "stdout",
     "output_type": "stream",
     "text": [
      "name 'A' is not defined\n"
     ]
    }
   ],
   "source": [
    "try:\n",
    "    a = 'ka'\n",
    "    print(A)\n",
    "except Exception as f:\n",
    "    print(f)\n",
    "    "
   ]
  },
  {
   "cell_type": "code",
   "execution_count": 26,
   "id": "9723cc67",
   "metadata": {},
   "outputs": [
    {
     "name": "stdout",
     "output_type": "stream",
     "text": [
      "2.0\n"
     ]
    }
   ],
   "source": [
    "try:\n",
    "    a = 12\n",
    "    b = a / 6\n",
    "except ValueError:\n",
    "    print(\"pls enter proper variable\")\n",
    "except ZeroDivisionError:\n",
    "    print(\"dont give 0 in reminder\")\n",
    "except:\n",
    "    print(\"some other error\")\n",
    "else:\n",
    "    print(b)"
   ]
  },
  {
   "cell_type": "code",
   "execution_count": 27,
   "id": "63d81254",
   "metadata": {},
   "outputs": [
    {
     "name": "stdout",
     "output_type": "stream",
     "text": [
      "dont give 0 in reminder\n"
     ]
    }
   ],
   "source": [
    "try:\n",
    "    a = 12\n",
    "    b = a / 0\n",
    "except ValueError:\n",
    "    print(\"pls enter proper variable\")\n",
    "except ZeroDivisionError:\n",
    "    print(\"dont give 0 in reminder\")\n",
    "except:\n",
    "    print(\"some other error\")\n",
    "else:\n",
    "    print(b)"
   ]
  },
  {
   "cell_type": "code",
   "execution_count": 28,
   "id": "0ea342a1",
   "metadata": {},
   "outputs": [
    {
     "name": "stdout",
     "output_type": "stream",
     "text": [
      "pls enter proper variable value \n"
     ]
    }
   ],
   "source": [
    "try:\n",
    "    a = 'ka'\n",
    "    b = int(a)\n",
    "except ValueError:\n",
    "    print(\"pls enter proper variable value \")\n",
    "except ZeroDivisionError:\n",
    "    print(\"dont give 0 in reminder\")\n",
    "except:\n",
    "    print(\"some other error\")\n",
    "else:\n",
    "    print(b)"
   ]
  },
  {
   "cell_type": "code",
   "execution_count": 29,
   "id": "be3fb775",
   "metadata": {},
   "outputs": [
    {
     "name": "stdout",
     "output_type": "stream",
     "text": [
      "some other error\n"
     ]
    }
   ],
   "source": [
    "try:\n",
    "    a = 12\n",
    "    b = A / 6\n",
    "except ValueError:\n",
    "    print(\"pls enter proper variable\")\n",
    "except ZeroDivisionError:\n",
    "    print(\"dont give 0 in reminder\")\n",
    "except:\n",
    "    print(\"some other error\")\n",
    "else:\n",
    "    print(b)"
   ]
  },
  {
   "cell_type": "code",
   "execution_count": 31,
   "id": "73b5d581",
   "metadata": {},
   "outputs": [
    {
     "name": "stdout",
     "output_type": "stream",
     "text": [
      "some other error\n",
      "i will execute any time\n"
     ]
    }
   ],
   "source": [
    "### finally in exception means will executed any time \n",
    "try:\n",
    "    a = 12\n",
    "    b = A / 6\n",
    "except ValueError:\n",
    "    print(\"pls enter proper variable\")\n",
    "except ZeroDivisionError:\n",
    "    print(\"dont give 0 in reminder\")\n",
    "except:\n",
    "    print(\"some other error\")\n",
    "else:\n",
    "    print(b)\n",
    "finally:\n",
    "    print(\"i will execute any time\")"
   ]
  },
  {
   "cell_type": "markdown",
   "id": "03fd880b",
   "metadata": {},
   "source": [
    "### Raising an exception "
   ]
  },
  {
   "cell_type": "code",
   "execution_count": 36,
   "id": "4a82e80c",
   "metadata": {},
   "outputs": [
    {
     "name": "stdout",
     "output_type": "stream",
     "text": [
      "Enter a number = -2\n",
      "pls enter positive number\n"
     ]
    }
   ],
   "source": [
    "try:\n",
    "    roll = int(input(\"Enter a number = \"))\n",
    "    if roll <=0:\n",
    "        raise ValueError(\"pls enter positive number\")\n",
    "    \n",
    "except ValueError as v:\n",
    "    print(v)\n",
    "else:\n",
    "    print(roll)"
   ]
  },
  {
   "cell_type": "code",
   "execution_count": 38,
   "id": "ec3ccff2",
   "metadata": {},
   "outputs": [
    {
     "name": "stdout",
     "output_type": "stream",
     "text": [
      "Enter age = 21\n",
      "No ur not allowed\n"
     ]
    }
   ],
   "source": [
    "try:\n",
    "    age = int(input(\"Enter age = \"))\n",
    "    if age <= 5:\n",
    "        raise ValueError(\"age should be greater than 5\")\n",
    "    if age > 20:\n",
    "        raise ValueError(\"No ur not allowed\")\n",
    "\n",
    "except ValueError as v:\n",
    "    print(v)"
   ]
  },
  {
   "cell_type": "code",
   "execution_count": 39,
   "id": "f28f6d36",
   "metadata": {},
   "outputs": [
    {
     "name": "stdout",
     "output_type": "stream",
     "text": [
      "Enter age = 3\n",
      "age should be greater than 5\n"
     ]
    }
   ],
   "source": [
    "try:\n",
    "    age = int(input(\"Enter age = \"))\n",
    "    if age <= 5:\n",
    "        raise NameError(\"age should be greater than 5\")\n",
    "    if age > 20:\n",
    "        raise NameError(\"No ur not allowed\")\n",
    "\n",
    "except NameError as v:\n",
    "    print(v)"
   ]
  },
  {
   "cell_type": "code",
   "execution_count": 40,
   "id": "5489c052",
   "metadata": {},
   "outputs": [],
   "source": [
    "a = [1,2,3]\n"
   ]
  },
  {
   "cell_type": "code",
   "execution_count": 41,
   "id": "1d979360",
   "metadata": {},
   "outputs": [
    {
     "ename": "SyntaxError",
     "evalue": "closing parenthesis '}' does not match opening parenthesis '[' (Temp/ipykernel_17724/2253227978.py, line 1)",
     "output_type": "error",
     "traceback": [
      "\u001b[1;36m  File \u001b[1;32m\"C:\\Users\\korla\\AppData\\Local\\Temp/ipykernel_17724/2253227978.py\"\u001b[1;36m, line \u001b[1;32m1\u001b[0m\n\u001b[1;33m    a = [1,2,3}\u001b[0m\n\u001b[1;37m              ^\u001b[0m\n\u001b[1;31mSyntaxError\u001b[0m\u001b[1;31m:\u001b[0m closing parenthesis '}' does not match opening parenthesis '['\n"
     ]
    }
   ],
   "source": [
    "a = [1,2,3}"
   ]
  },
  {
   "cell_type": "code",
   "execution_count": null,
   "id": "da2e784d",
   "metadata": {},
   "outputs": [],
   "source": []
  }
 ],
 "metadata": {
  "kernelspec": {
   "display_name": "Python 3 (ipykernel)",
   "language": "python",
   "name": "python3"
  },
  "language_info": {
   "codemirror_mode": {
    "name": "ipython",
    "version": 3
   },
   "file_extension": ".py",
   "mimetype": "text/x-python",
   "name": "python",
   "nbconvert_exporter": "python",
   "pygments_lexer": "ipython3",
   "version": "3.8.12"
  }
 },
 "nbformat": 4,
 "nbformat_minor": 5
}
