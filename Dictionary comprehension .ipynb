{
 "cells": [
  {
   "cell_type": "code",
   "execution_count": 1,
   "id": "2f8c26b2",
   "metadata": {},
   "outputs": [
    {
     "data": {
      "text/plain": [
       "{'name': 'Bill gates', 'Age': 20}"
      ]
     },
     "execution_count": 1,
     "metadata": {},
     "output_type": "execute_result"
    }
   ],
   "source": [
    "a = {'name':'Bill gates' , 'Age' : 20}\n",
    "a"
   ]
  },
  {
   "cell_type": "code",
   "execution_count": 2,
   "id": "b38ce9d5",
   "metadata": {},
   "outputs": [
    {
     "data": {
      "text/plain": [
       "dict"
      ]
     },
     "execution_count": 2,
     "metadata": {},
     "output_type": "execute_result"
    }
   ],
   "source": [
    "type(a)"
   ]
  },
  {
   "cell_type": "code",
   "execution_count": 3,
   "id": "3aca9043",
   "metadata": {},
   "outputs": [
    {
     "name": "stdout",
     "output_type": "stream",
     "text": [
      "{'name': 'Bill gates', 'Age': 50}\n"
     ]
    }
   ],
   "source": [
    "a = {}\n",
    "\n",
    "\n",
    "a['name'] = 'Bill gates'\n",
    "a['Age'] = 50\n",
    "\n",
    "\n",
    "print(a)"
   ]
  },
  {
   "cell_type": "code",
   "execution_count": 6,
   "id": "cac7afd1",
   "metadata": {},
   "outputs": [],
   "source": [
    "b = {}\n",
    "\n",
    "\n",
    "for i in range(1,5):  # i = 1\n",
    "    b[i] = i ** 3  #  1 : 1 , 2 : 8\n",
    "    \n",
    "    "
   ]
  },
  {
   "cell_type": "code",
   "execution_count": 7,
   "id": "d787c132",
   "metadata": {},
   "outputs": [
    {
     "data": {
      "text/plain": [
       "{1: 1, 2: 8, 3: 27, 4: 64}"
      ]
     },
     "execution_count": 7,
     "metadata": {},
     "output_type": "execute_result"
    }
   ],
   "source": [
    "b"
   ]
  },
  {
   "cell_type": "markdown",
   "id": "042ad5c1",
   "metadata": {},
   "source": [
    "### dictionary comprehension "
   ]
  },
  {
   "cell_type": "code",
   "execution_count": 8,
   "id": "7880abdd",
   "metadata": {},
   "outputs": [
    {
     "data": {
      "text/plain": [
       "{1: 1, 2: 8, 3: 27, 4: 64}"
      ]
     },
     "execution_count": 8,
     "metadata": {},
     "output_type": "execute_result"
    }
   ],
   "source": [
    "a = {i:i**3 for i in range(1,5)}\n",
    "a"
   ]
  },
  {
   "cell_type": "code",
   "execution_count": 9,
   "id": "0e6ab9f4",
   "metadata": {},
   "outputs": [
    {
     "name": "stdout",
     "output_type": "stream",
     "text": [
      "{'mango': 20, 'apple': 50, 'grapes': 80}\n"
     ]
    }
   ],
   "source": [
    "old_fruit_prices = {\"mango\":20 , 'apple':50 , 'grapes':80}\n",
    "\n",
    "print(old_fruit_prices)"
   ]
  },
  {
   "cell_type": "code",
   "execution_count": 12,
   "id": "d8221934",
   "metadata": {},
   "outputs": [
    {
     "name": "stdout",
     "output_type": "stream",
     "text": [
      "('mango', 20)\n",
      "('apple', 50)\n",
      "('grapes', 80)\n"
     ]
    }
   ],
   "source": [
    "for i in old_fruit_prices.items():\n",
    "    print(i)"
   ]
  },
  {
   "cell_type": "code",
   "execution_count": 16,
   "id": "c7b1ab18",
   "metadata": {},
   "outputs": [],
   "source": [
    "# normal technique \n",
    "old_fruit_prices = {\"mango\":20 , 'apple':50 , 'grapes':80}\n",
    "\n",
    "\n",
    "new_fruit_prices = {}\n",
    "\n",
    "for i , j in old_fruit_prices.items():\n",
    "    new_fruit_prices[i] = j * 10\n",
    "    \n",
    "    \n",
    "    \n"
   ]
  },
  {
   "cell_type": "code",
   "execution_count": 17,
   "id": "29015a5b",
   "metadata": {},
   "outputs": [
    {
     "data": {
      "text/plain": [
       "{'mango': 200, 'apple': 500, 'grapes': 800}"
      ]
     },
     "execution_count": 17,
     "metadata": {},
     "output_type": "execute_result"
    }
   ],
   "source": [
    "new_fruit_prices"
   ]
  },
  {
   "cell_type": "code",
   "execution_count": 18,
   "id": "fa31c07f",
   "metadata": {},
   "outputs": [],
   "source": [
    "# dict comprehension \n",
    "old_fruit_prices = {\"mango\":20 , 'apple':50 , 'grapes':80}\n",
    "\n",
    "new_values = {i:j*10 for i,j in old_fruit_prices.items()}"
   ]
  },
  {
   "cell_type": "code",
   "execution_count": 19,
   "id": "038e5f5b",
   "metadata": {},
   "outputs": [
    {
     "data": {
      "text/plain": [
       "{'mango': 200, 'apple': 500, 'grapes': 800}"
      ]
     },
     "execution_count": 19,
     "metadata": {},
     "output_type": "execute_result"
    }
   ],
   "source": [
    "new_values"
   ]
  },
  {
   "cell_type": "code",
   "execution_count": 20,
   "id": "e9169e72",
   "metadata": {},
   "outputs": [
    {
     "data": {
      "text/plain": [
       "{'HP': 10, 'DeLL': 20, 'acer': 50, 'ASUS': 100}"
      ]
     },
     "execution_count": 20,
     "metadata": {},
     "output_type": "execute_result"
    }
   ],
   "source": [
    "laptops = {'HP':10 , 'DeLL':20 , 'acer':50 , 'ASUS' : 100}\n",
    "laptops"
   ]
  },
  {
   "cell_type": "code",
   "execution_count": 21,
   "id": "3b892567",
   "metadata": {},
   "outputs": [],
   "source": [
    "# which laptop values are greater than 20 pls multiply it with 100\n",
    "\n",
    "a = {i:j * 100 for i,j in laptops.items() if j > 20}"
   ]
  },
  {
   "cell_type": "code",
   "execution_count": 22,
   "id": "7514db8e",
   "metadata": {},
   "outputs": [
    {
     "data": {
      "text/plain": [
       "{'acer': 5000, 'ASUS': 10000}"
      ]
     },
     "execution_count": 22,
     "metadata": {},
     "output_type": "execute_result"
    }
   ],
   "source": [
    "a"
   ]
  },
  {
   "cell_type": "code",
   "execution_count": 24,
   "id": "11b76eb6",
   "metadata": {},
   "outputs": [
    {
     "data": {
      "text/plain": [
       "{'kamal': 50, 'shiva': 20, 'pradeep': 60, 'ashu': 15}"
      ]
     },
     "execution_count": 24,
     "metadata": {},
     "output_type": "execute_result"
    }
   ],
   "source": [
    "result = {'kamal':50 , 'shiva':20, 'pradeep' : 60 , 'ashu' : 15}\n",
    "\n",
    "result"
   ]
  },
  {
   "cell_type": "code",
   "execution_count": 25,
   "id": "3e036c75",
   "metadata": {},
   "outputs": [],
   "source": [
    "# normal\n",
    "\n",
    "# if marks less than 40 means make fail and above 40 means make pass\n",
    "\n",
    "result = {'kamal':50 , 'shiva':20, 'pradeep' : 60 , 'ashu' : 15}\n",
    "\n",
    "new_result = {}\n",
    "\n",
    "\n",
    "for i , j in result.items():\n",
    "    if j >= 40:\n",
    "        new_result[i] = 'PASS'\n",
    "    else:\n",
    "        new_result[i] = \"FAIL\"\n",
    "        \n",
    "    \n"
   ]
  },
  {
   "cell_type": "code",
   "execution_count": 26,
   "id": "6a35b28d",
   "metadata": {},
   "outputs": [
    {
     "data": {
      "text/plain": [
       "{'kamal': 'PASS', 'shiva': 'FAIL', 'pradeep': 'PASS', 'ashu': 'FAIL'}"
      ]
     },
     "execution_count": 26,
     "metadata": {},
     "output_type": "execute_result"
    }
   ],
   "source": [
    "new_result"
   ]
  },
  {
   "cell_type": "code",
   "execution_count": 27,
   "id": "1a5b201c",
   "metadata": {},
   "outputs": [
    {
     "data": {
      "text/plain": [
       "{'kamal': 50, 'shiva': 20, 'pradeep': 60, 'ashu': 15}"
      ]
     },
     "execution_count": 27,
     "metadata": {},
     "output_type": "execute_result"
    }
   ],
   "source": [
    "## dict comprehension \n",
    "\n",
    "result = {'kamal':50 , 'shiva':20, 'pradeep' : 60 , 'ashu' : 15}\n",
    "\n",
    "result\n"
   ]
  },
  {
   "cell_type": "code",
   "execution_count": 30,
   "id": "5cd470e4",
   "metadata": {},
   "outputs": [],
   "source": [
    "new_res = {i:('PASS' if j >=40 else 'Fail') for i,j in result.items()}"
   ]
  },
  {
   "cell_type": "code",
   "execution_count": 31,
   "id": "a8c9dc4d",
   "metadata": {},
   "outputs": [
    {
     "data": {
      "text/plain": [
       "{'kamal': 'PASS', 'shiva': 'Fail', 'pradeep': 'PASS', 'ashu': 'Fail'}"
      ]
     },
     "execution_count": 31,
     "metadata": {},
     "output_type": "execute_result"
    }
   ],
   "source": [
    "new_res"
   ]
  },
  {
   "cell_type": "code",
   "execution_count": 32,
   "id": "d22c42e7",
   "metadata": {},
   "outputs": [],
   "source": [
    "## doubt query \n",
    "\n",
    "a = {i:(\"EVEN\" if i% 2 == 0 else \"ODD\") for i in range(1,11)}"
   ]
  },
  {
   "cell_type": "code",
   "execution_count": 33,
   "id": "6ee6bb4b",
   "metadata": {},
   "outputs": [
    {
     "data": {
      "text/plain": [
       "{1: 'ODD',\n",
       " 2: 'EVEN',\n",
       " 3: 'ODD',\n",
       " 4: 'EVEN',\n",
       " 5: 'ODD',\n",
       " 6: 'EVEN',\n",
       " 7: 'ODD',\n",
       " 8: 'EVEN',\n",
       " 9: 'ODD',\n",
       " 10: 'EVEN'}"
      ]
     },
     "execution_count": 33,
     "metadata": {},
     "output_type": "execute_result"
    }
   ],
   "source": [
    "a"
   ]
  },
  {
   "cell_type": "code",
   "execution_count": null,
   "id": "63e84a26",
   "metadata": {},
   "outputs": [],
   "source": []
  }
 ],
 "metadata": {
  "kernelspec": {
   "display_name": "Python 3 (ipykernel)",
   "language": "python",
   "name": "python3"
  },
  "language_info": {
   "codemirror_mode": {
    "name": "ipython",
    "version": 3
   },
   "file_extension": ".py",
   "mimetype": "text/x-python",
   "name": "python",
   "nbconvert_exporter": "python",
   "pygments_lexer": "ipython3",
   "version": "3.8.12"
  }
 },
 "nbformat": 4,
 "nbformat_minor": 5
}
