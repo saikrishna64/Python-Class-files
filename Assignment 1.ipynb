{
 "cells": [
  {
   "cell_type": "raw",
   "id": "bdd14f58",
   "metadata": {},
   "source": [
    "1. \n",
    "\n",
    "a = [10,20,30,50,100] \n",
    "\n",
    "\n",
    "find the mean(average) for above values \n",
    "\n",
    "average formula = sum/ no of values "
   ]
  },
  {
   "cell_type": "raw",
   "id": "5566adbc",
   "metadata": {},
   "source": [
    "2.\n",
    "\n",
    "\n",
    "take ur name as input and remove vowels from them [vowerls means (aeiouAEIOU)]\n",
    "\n",
    "EX : input = sai kamal \n",
    "\n",
    "expected output = skml\n"
   ]
  },
  {
   "cell_type": "raw",
   "id": "6e8d8ef4",
   "metadata": {},
   "source": [
    "3.\n",
    "\n",
    "take ur name as input and print vowels from them [vowerls means (aeiouAEIOU)]\n",
    "\n",
    "EX : input = sai kamal \n",
    "\n",
    "expected output = ai"
   ]
  },
  {
   "cell_type": "raw",
   "id": "10565ffc",
   "metadata": {},
   "source": [
    "4.\n",
    "\n",
    "\n",
    "Which of these about a set is not true?\n",
    "\n",
    "a) Mutable data type\n",
    "b) Allows duplicate values\n",
    "c) Data type with unordered values\n",
    "d) Immutable data type"
   ]
  },
  {
   "cell_type": "raw",
   "id": "fe834ce1",
   "metadata": {},
   "source": [
    "5.\n",
    "\n",
    "Task : Write a Python program to create a function that takes one argument, and that argument will be multiplied with an unknown given number.\n",
    "\n",
    "\n",
    "Sample Output =  15  \n",
    "Double the number of 15 = 30\n",
    "Triple the number of 15 = 45\n",
    "Quadruple the number of 15 = 60\n",
    "Quintuple the number 15 = 75"
   ]
  },
  {
   "cell_type": "raw",
   "id": "f42bdb23",
   "metadata": {},
   "source": [
    "6.\n",
    "\n",
    "\n",
    "Task : Write a Python program to find if a given string starts with a given character using Lambda. \n",
    "\n",
    "Sample Output:\n",
    "True\n",
    "False"
   ]
  },
  {
   "cell_type": "raw",
   "id": "a96fe21a",
   "metadata": {},
   "source": [
    "7. \n",
    "\n",
    "\n",
    "\n",
    "Task : Write a Python Programme to calculate the number of Digits and Letters in a string "
   ]
  },
  {
   "cell_type": "raw",
   "id": "b1db3c04",
   "metadata": {},
   "source": [
    "8.\n",
    "\n",
    "Task :\n",
    "\n",
    "Write a Python Programme to find the values Divisible by 5 and 3 from 15 to 50 \n",
    "\n",
    "sample output = 15,30,45"
   ]
  },
  {
   "cell_type": "raw",
   "id": "b9a4c2f2",
   "metadata": {},
   "source": [
    "9.\n",
    "\n",
    "Write a Python function to convert a given string to all uppercase if it contains at least 2 uppercase characters in the first 4 characters"
   ]
  },
  {
   "cell_type": "raw",
   "id": "e9981d27",
   "metadata": {},
   "source": [
    "10 . Write a Python program to move spaces to the front of a given string\n",
    "\n",
    "\n",
    "\n",
    "ex:\n",
    "input = sai kamal\n",
    "output = ' saikamal'"
   ]
  },
  {
   "cell_type": "markdown",
   "id": "f7306737",
   "metadata": {},
   "source": [
    "### Guys complete this assignment and upload in ur github by creating a repository and share me the link after completing "
   ]
  },
  {
   "cell_type": "code",
   "execution_count": null,
   "id": "6d70a0df",
   "metadata": {},
   "outputs": [],
   "source": []
  }
 ],
 "metadata": {
  "kernelspec": {
   "display_name": "Python 3 (ipykernel)",
   "language": "python",
   "name": "python3"
  },
  "language_info": {
   "codemirror_mode": {
    "name": "ipython",
    "version": 3
   },
   "file_extension": ".py",
   "mimetype": "text/x-python",
   "name": "python",
   "nbconvert_exporter": "python",
   "pygments_lexer": "ipython3",
   "version": "3.9.12"
  }
 },
 "nbformat": 4,
 "nbformat_minor": 5
}
